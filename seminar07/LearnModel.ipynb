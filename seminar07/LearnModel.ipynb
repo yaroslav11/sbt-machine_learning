{
 "cells": [
  {
   "cell_type": "markdown",
   "metadata": {},
   "source": [
    "# Быстрое обучение модели"
   ]
  },
  {
   "cell_type": "markdown",
   "metadata": {},
   "source": [
    "Мы собрали данные по докторам, теперь мы можем обучить простую модель для предсказания стоимости приёма"
   ]
  },
  {
   "cell_type": "code",
   "execution_count": 1,
   "metadata": {},
   "outputs": [],
   "source": [
    "import json\n",
    "import numpy as np"
   ]
  },
  {
   "cell_type": "markdown",
   "metadata": {},
   "source": [
    "Загрузим данные из JSON-a"
   ]
  },
  {
   "cell_type": "code",
   "execution_count": 2,
   "metadata": {},
   "outputs": [],
   "source": [
    "with open('doctors.json', 'r') as f:\n",
    "    doctors = json.load(f)"
   ]
  },
  {
   "cell_type": "markdown",
   "metadata": {},
   "source": [
    "Проверим содержимое объекта"
   ]
  },
  {
   "cell_type": "code",
   "execution_count": 3,
   "metadata": {},
   "outputs": [
    {
     "data": {
      "text/plain": [
       "{'experience': 23.0,\n",
       " 'is_first_category': True,\n",
       " 'is_phd': True,\n",
       " 'name_parts': ['Сергейко', 'Анатолий', 'Анатольевич'],\n",
       " 'price': 1700.0,\n",
       " 'proffesions': ['Хирург', 'Эндоскопист']}"
      ]
     },
     "execution_count": 3,
     "metadata": {},
     "output_type": "execute_result"
    }
   ],
   "source": [
    "doctors[0]"
   ]
  },
  {
   "cell_type": "markdown",
   "metadata": {},
   "source": [
    "Посмотрим на различные специализации докторов, используя класс Counter для подсчёта статистики"
   ]
  },
  {
   "cell_type": "code",
   "execution_count": 4,
   "metadata": {},
   "outputs": [],
   "source": [
    "from collections import Counter"
   ]
  },
  {
   "cell_type": "code",
   "execution_count": 5,
   "metadata": {},
   "outputs": [
    {
     "data": {
      "text/plain": [
       "Counter({'': 14,\n",
       "         'Акушер': 361,\n",
       "         'Аллерголог': 61,\n",
       "         'Андролог': 118,\n",
       "         'Анестезиолог': 41,\n",
       "         'Артролог': 8,\n",
       "         'Венеролог': 128,\n",
       "         'Вертебролог': 44,\n",
       "         'Врач ЛФК': 63,\n",
       "         'Врач функциональной диагностики': 90,\n",
       "         'Гастроэнтеролог': 135,\n",
       "         'Гематолог': 13,\n",
       "         'Генетик': 13,\n",
       "         'Гепатолог': 28,\n",
       "         'Гинеколог': 508,\n",
       "         'Гинеколог-эндокринолог': 89,\n",
       "         'Гирудотерапевт': 44,\n",
       "         'Гомеопат': 22,\n",
       "         'Дерматолог': 265,\n",
       "         'Диабетолог': 4,\n",
       "         'Диетолог': 47,\n",
       "         'Иммунолог': 53,\n",
       "         'Инфекционист': 16,\n",
       "         'Кардиолог': 200,\n",
       "         'Кардиохирург': 1,\n",
       "         'Кинезиолог': 19,\n",
       "         'Колопроктолог': 38,\n",
       "         'Косметолог': 236,\n",
       "         'Логопед': 20,\n",
       "         'Лор (отоларинголог)': 213,\n",
       "         'Маммолог': 72,\n",
       "         'Мануальный терапевт': 151,\n",
       "         'Массажист': 123,\n",
       "         'Миколог': 18,\n",
       "         'Нарколог': 72,\n",
       "         'Невролог': 305,\n",
       "         'Нейропсихолог': 11,\n",
       "         'Нейрохирург': 22,\n",
       "         'Неонатолог': 5,\n",
       "         'Нефролог': 19,\n",
       "         'Окулист (офтальмолог)': 172,\n",
       "         'Онкогинеколог': 2,\n",
       "         'Онкодерматолог': 2,\n",
       "         'Онколог': 90,\n",
       "         'Ортопед': 193,\n",
       "         'Остеопат': 66,\n",
       "         'Педиатр': 84,\n",
       "         'Пластический хирург': 68,\n",
       "         'Проктолог': 62,\n",
       "         'Психиатр': 115,\n",
       "         'Психолог': 163,\n",
       "         'Психотерапевт': 137,\n",
       "         'Пульмонолог': 37,\n",
       "         'Реабилитолог': 30,\n",
       "         'Ревматолог': 40,\n",
       "         'Рентгенолог': 106,\n",
       "         'Репродуктолог (ЭКО)': 42,\n",
       "         'Рефлексотерапевт': 108,\n",
       "         'Сексолог': 16,\n",
       "         'Семейный врач': 32,\n",
       "         'Сосудистый хирург': 35,\n",
       "         'Спортивный врач': 21,\n",
       "         'Стоматолог': 543,\n",
       "         'Стоматолог-гигиенист': 26,\n",
       "         'Стоматолог-имплантолог': 101,\n",
       "         'Стоматолог-ортодонт': 53,\n",
       "         'Стоматолог-ортопед': 186,\n",
       "         'Стоматолог-пародонтолог': 47,\n",
       "         'Стоматолог-терапевт': 300,\n",
       "         'Стоматолог-хирург': 167,\n",
       "         'Сурдолог': 10,\n",
       "         'Терапевт': 359,\n",
       "         'Травматолог': 122,\n",
       "         'Трихолог': 57,\n",
       "         'УЗИ-специалист': 402,\n",
       "         'Уролог': 240,\n",
       "         'Физиотерапевт': 94,\n",
       "         'Флеболог': 83,\n",
       "         'Фониатр': 1,\n",
       "         'Хирург': 269,\n",
       "         'Челюстно-лицевой хирург': 24,\n",
       "         'Эндокринолог': 132,\n",
       "         'Эндоскопист': 65,\n",
       "         'Эпилептолог': 22})"
      ]
     },
     "execution_count": 5,
     "metadata": {},
     "output_type": "execute_result"
    }
   ],
   "source": [
    "prof_cnt = Counter()\n",
    "for doctor in doctors:\n",
    "    prof_cnt.update(doctor['proffesions'])\n",
    "prof_cnt"
   ]
  },
  {
   "cell_type": "code",
   "execution_count": 6,
   "metadata": {},
   "outputs": [],
   "source": [
    "prof_set = frozenset(prof_cnt.keys())\n",
    "prof_set_list = list(prof_set)"
   ]
  },
  {
   "cell_type": "code",
   "execution_count": 29,
   "metadata": {},
   "outputs": [],
   "source": [
    "with open('prof_set_list.json', 'w') as f:\n",
    "    json.dump(prof_set_list, f)"
   ]
  },
  {
   "cell_type": "code",
   "execution_count": 7,
   "metadata": {},
   "outputs": [
    {
     "data": {
      "text/plain": [
       "84"
      ]
     },
     "execution_count": 7,
     "metadata": {},
     "output_type": "execute_result"
    }
   ],
   "source": [
    "len(prof_set)"
   ]
  },
  {
   "cell_type": "markdown",
   "metadata": {},
   "source": [
    "Создадим выборку для обучения\n",
    "\n",
    "Удобно в комментариях писать название признака"
   ]
  },
  {
   "cell_type": "code",
   "execution_count": 8,
   "metadata": {},
   "outputs": [],
   "source": [
    "X, y = [], []\n",
    "\n",
    "for doctor in doctors:\n",
    "    features = []\n",
    "    # 0 - experience\n",
    "    features.append(doctor['experience'] or 0)\n",
    "    # 1 - is_first_category\n",
    "    features.append(float(doctor['is_first_category']))\n",
    "    # 2 - is_phd\n",
    "    features.append(float(doctor['is_phd']))\n",
    "    # 3 - len(proffesions)\n",
    "    features.append(len(doctor['proffesions']))\n",
    "    # 4 - 87 one hot proffesions\n",
    "    for p in prof_set_list:\n",
    "        features.append(float(p in doctor['proffesions']))\n",
    "        \n",
    "    X.append(features)\n",
    "    y.append(doctor['price'] or 0)\n",
    "    \n",
    "X = np.array(X)\n",
    "y = np.array(y)"
   ]
  },
  {
   "cell_type": "markdown",
   "metadata": {},
   "source": [
    "Обучим простые модели"
   ]
  },
  {
   "cell_type": "code",
   "execution_count": 9,
   "metadata": {},
   "outputs": [],
   "source": [
    "from sklearn.model_selection import cross_val_score\n",
    "from sklearn.linear_model import LinearRegression\n",
    "from sklearn.ensemble import RandomForestRegressor\n",
    "from sklearn.neighbors import KNeighborsRegressor\n",
    "from sklearn.dummy import DummyRegressor"
   ]
  },
  {
   "cell_type": "markdown",
   "metadata": {},
   "source": [
    "DummyRegressor это простой бейзлайн - предсказание константой"
   ]
  },
  {
   "cell_type": "code",
   "execution_count": 10,
   "metadata": {},
   "outputs": [
    {
     "data": {
      "text/plain": [
       "2292.987742999036"
      ]
     },
     "execution_count": 10,
     "metadata": {},
     "output_type": "execute_result"
    }
   ],
   "source": [
    "np.sqrt(-cross_val_score(DummyRegressor(), X, y, cv=3, scoring='neg_mean_squared_error').mean())"
   ]
  },
  {
   "cell_type": "code",
   "execution_count": 11,
   "metadata": {},
   "outputs": [
    {
     "data": {
      "text/plain": [
       "1019169977242.8812"
      ]
     },
     "execution_count": 11,
     "metadata": {},
     "output_type": "execute_result"
    }
   ],
   "source": [
    "np.sqrt(-cross_val_score(LinearRegression(), X, y, cv=3, scoring='neg_mean_squared_error').mean())"
   ]
  },
  {
   "cell_type": "code",
   "execution_count": 12,
   "metadata": {},
   "outputs": [
    {
     "data": {
      "text/plain": [
       "2516.96455239046"
      ]
     },
     "execution_count": 12,
     "metadata": {},
     "output_type": "execute_result"
    }
   ],
   "source": [
    "np.sqrt(-cross_val_score(RandomForestRegressor(), X, y, cv=3, scoring='neg_mean_squared_error').mean())"
   ]
  },
  {
   "cell_type": "code",
   "execution_count": 13,
   "metadata": {},
   "outputs": [
    {
     "data": {
      "text/plain": [
       "2465.242921355518"
      ]
     },
     "execution_count": 13,
     "metadata": {},
     "output_type": "execute_result"
    }
   ],
   "source": [
    "np.sqrt(-cross_val_score(RandomForestRegressor(n_estimators=100), X, y, cv=3, scoring='neg_mean_squared_error').mean())"
   ]
  },
  {
   "cell_type": "code",
   "execution_count": 14,
   "metadata": {},
   "outputs": [
    {
     "data": {
      "text/plain": [
       "2360.2875565348754"
      ]
     },
     "execution_count": 14,
     "metadata": {},
     "output_type": "execute_result"
    }
   ],
   "source": [
    "np.sqrt(-cross_val_score(KNeighborsRegressor(), X, y, cv=3, scoring='neg_mean_squared_error').mean())"
   ]
  },
  {
   "cell_type": "code",
   "execution_count": 15,
   "metadata": {},
   "outputs": [
    {
     "data": {
      "text/plain": [
       "2293.558275438247"
      ]
     },
     "execution_count": 15,
     "metadata": {},
     "output_type": "execute_result"
    }
   ],
   "source": [
    "np.sqrt(-cross_val_score(KNeighborsRegressor(n_neighbors=10), X, y, cv=3, scoring='neg_mean_squared_error').mean())"
   ]
  },
  {
   "cell_type": "code",
   "execution_count": 16,
   "metadata": {},
   "outputs": [],
   "source": [
    "import xgboost as xgb"
   ]
  },
  {
   "cell_type": "code",
   "execution_count": 17,
   "metadata": {},
   "outputs": [
    {
     "data": {
      "text/plain": [
       "2186.5772879904057"
      ]
     },
     "execution_count": 17,
     "metadata": {},
     "output_type": "execute_result"
    }
   ],
   "source": [
    "np.sqrt(-cross_val_score(xgb.XGBRegressor(), X, y, cv=3, scoring='neg_mean_squared_error').mean())"
   ]
  },
  {
   "cell_type": "markdown",
   "metadata": {},
   "source": [
    "xgboost лучше всех, посмотрим на самые важность признаков"
   ]
  },
  {
   "cell_type": "code",
   "execution_count": 18,
   "metadata": {},
   "outputs": [
    {
     "data": {
      "text/plain": [
       "[(0.23649634, 0),\n",
       " (0.14306569, 3),\n",
       " (0.045255475, 2),\n",
       " (0.035036497, 63),\n",
       " (0.035036497, 55),\n",
       " (0.030656934, 79),\n",
       " (0.030656934, 36),\n",
       " (0.02919708, 60),\n",
       " (0.027737226, 1),\n",
       " (0.023357663, 73),\n",
       " (0.02189781, 82),\n",
       " (0.02189781, 76),\n",
       " (0.018978102, 30),\n",
       " (0.017518248, 34),\n",
       " (0.016058395, 40),\n",
       " (0.01459854, 71),\n",
       " (0.01459854, 13),\n",
       " (0.013138686, 46),\n",
       " (0.011678832, 70),\n",
       " (0.011678832, 61),\n",
       " (0.011678832, 42),\n",
       " (0.011678832, 41),\n",
       " (0.011678832, 27),\n",
       " (0.010218978, 81),\n",
       " (0.010218978, 65),\n",
       " (0.010218978, 23),\n",
       " (0.010218978, 14),\n",
       " (0.008759124, 85),\n",
       " (0.008759124, 77),\n",
       " (0.008759124, 59),\n",
       " (0.008759124, 39),\n",
       " (0.008759124, 26),\n",
       " (0.00729927, 12),\n",
       " (0.00729927, 5),\n",
       " (0.005839416, 54),\n",
       " (0.005839416, 18),\n",
       " (0.005839416, 11),\n",
       " (0.004379562, 67),\n",
       " (0.004379562, 49),\n",
       " (0.004379562, 31),\n",
       " (0.004379562, 22),\n",
       " (0.004379562, 8),\n",
       " (0.004379562, 6),\n",
       " (0.002919708, 69),\n",
       " (0.002919708, 52),\n",
       " (0.002919708, 35),\n",
       " (0.002919708, 28),\n",
       " (0.001459854, 86),\n",
       " (0.001459854, 58),\n",
       " (0.001459854, 51),\n",
       " (0.001459854, 47),\n",
       " (0.001459854, 38),\n",
       " (0.001459854, 33),\n",
       " (0.001459854, 24),\n",
       " (0.001459854, 19),\n",
       " (0.0, 87),\n",
       " (0.0, 84),\n",
       " (0.0, 83),\n",
       " (0.0, 80),\n",
       " (0.0, 78),\n",
       " (0.0, 75),\n",
       " (0.0, 74),\n",
       " (0.0, 72),\n",
       " (0.0, 68),\n",
       " (0.0, 66),\n",
       " (0.0, 64),\n",
       " (0.0, 62),\n",
       " (0.0, 57),\n",
       " (0.0, 56),\n",
       " (0.0, 53),\n",
       " (0.0, 50),\n",
       " (0.0, 48),\n",
       " (0.0, 45),\n",
       " (0.0, 44),\n",
       " (0.0, 43),\n",
       " (0.0, 37),\n",
       " (0.0, 32),\n",
       " (0.0, 29),\n",
       " (0.0, 25),\n",
       " (0.0, 21),\n",
       " (0.0, 20),\n",
       " (0.0, 17),\n",
       " (0.0, 16),\n",
       " (0.0, 15),\n",
       " (0.0, 10),\n",
       " (0.0, 9),\n",
       " (0.0, 7),\n",
       " (0.0, 4)]"
      ]
     },
     "execution_count": 18,
     "metadata": {},
     "output_type": "execute_result"
    }
   ],
   "source": [
    "algo = xgb.XGBRegressor().fit(X, y)\n",
    "sorted(zip(algo.feature_importances_, range(X.shape[1])), reverse=True)"
   ]
  },
  {
   "cell_type": "code",
   "execution_count": 19,
   "metadata": {},
   "outputs": [
    {
     "data": {
      "text/plain": [
       "[(0.23649634, 0),\n",
       " (0.14306569, 3),\n",
       " (0.045255475, 2),\n",
       " (0.035036497, 63),\n",
       " (0.035036497, 55),\n",
       " (0.030656934, 79),\n",
       " (0.030656934, 36)]"
      ]
     },
     "execution_count": 19,
     "metadata": {},
     "output_type": "execute_result"
    }
   ],
   "source": [
    "sorted(zip(algo.feature_importances_, range(X.shape[1])), reverse=True)[:7]"
   ]
  },
  {
   "cell_type": "markdown",
   "metadata": {},
   "source": [
    "0 - experience\n",
    "\n",
    "3 - len(proffesions)\n",
    "\n",
    "2 - is_phd"
   ]
  },
  {
   "cell_type": "code",
   "execution_count": 20,
   "metadata": {},
   "outputs": [
    {
     "data": {
      "text/plain": [
       "'Фониатр'"
      ]
     },
     "execution_count": 20,
     "metadata": {},
     "output_type": "execute_result"
    }
   ],
   "source": [
    "prof_set_list[87 - 4]"
   ]
  },
  {
   "cell_type": "code",
   "execution_count": 21,
   "metadata": {},
   "outputs": [
    {
     "data": {
      "text/plain": [
       "'Врач ЛФК'"
      ]
     },
     "execution_count": 21,
     "metadata": {},
     "output_type": "execute_result"
    }
   ],
   "source": [
    "prof_set_list[19 - 4]"
   ]
  },
  {
   "cell_type": "code",
   "execution_count": 22,
   "metadata": {},
   "outputs": [
    {
     "data": {
      "text/plain": [
       "'Флеболог'"
      ]
     },
     "execution_count": 22,
     "metadata": {},
     "output_type": "execute_result"
    }
   ],
   "source": [
    "prof_set_list[78 - 4]"
   ]
  },
  {
   "cell_type": "code",
   "execution_count": 23,
   "metadata": {},
   "outputs": [
    {
     "data": {
      "text/plain": [
       "'Нефролог'"
      ]
     },
     "execution_count": 23,
     "metadata": {},
     "output_type": "execute_result"
    }
   ],
   "source": [
    "prof_set_list[15 - 4]"
   ]
  },
  {
   "cell_type": "markdown",
   "metadata": {},
   "source": [
    "Сохраним модель"
   ]
  },
  {
   "cell_type": "code",
   "execution_count": 24,
   "metadata": {},
   "outputs": [],
   "source": [
    "algo.booster().save_model('xgboost_model')"
   ]
  },
  {
   "cell_type": "markdown",
   "metadata": {},
   "source": [
    "Загрузим модель с диска и проверим, что всё корректно"
   ]
  },
  {
   "cell_type": "code",
   "execution_count": 25,
   "metadata": {},
   "outputs": [],
   "source": [
    "bst = xgb.Booster()\n",
    "bst.load_model('xgboost_model')"
   ]
  },
  {
   "cell_type": "code",
   "execution_count": 26,
   "metadata": {},
   "outputs": [],
   "source": [
    "clf = xgb.XGBRegressor()\n",
    "booster = xgb.Booster()\n",
    "booster.load_model('xgboost_model')\n",
    "clf._Booster = booster"
   ]
  },
  {
   "cell_type": "code",
   "execution_count": 27,
   "metadata": {},
   "outputs": [
    {
     "data": {
      "text/plain": [
       "array([2006.3156, 2191.837 , 2861.2122, ..., 2339.8147,  565.0743,\n",
       "       1137.5759], dtype=float32)"
      ]
     },
     "execution_count": 27,
     "metadata": {},
     "output_type": "execute_result"
    }
   ],
   "source": [
    "clf.predict(X)"
   ]
  },
  {
   "cell_type": "code",
   "execution_count": 28,
   "metadata": {},
   "outputs": [
    {
     "data": {
      "text/plain": [
       "array([2006.3156, 2191.837 , 2861.2122, ..., 2339.8147,  565.0743,\n",
       "       1137.5759], dtype=float32)"
      ]
     },
     "execution_count": 28,
     "metadata": {},
     "output_type": "execute_result"
    }
   ],
   "source": [
    "algo.predict(X)"
   ]
  },
  {
   "cell_type": "code",
   "execution_count": null,
   "metadata": {},
   "outputs": [],
   "source": []
  }
 ],
 "metadata": {
  "kernelspec": {
   "display_name": "Python 3",
   "language": "python",
   "name": "python3"
  },
  "language_info": {
   "codemirror_mode": {
    "name": "ipython",
    "version": 3
   },
   "file_extension": ".py",
   "mimetype": "text/x-python",
   "name": "python",
   "nbconvert_exporter": "python",
   "pygments_lexer": "ipython3",
   "version": "3.4.3"
  }
 },
 "nbformat": 4,
 "nbformat_minor": 2
}
