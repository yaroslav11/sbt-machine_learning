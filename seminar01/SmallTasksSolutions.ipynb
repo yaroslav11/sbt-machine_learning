{
 "cells": [
  {
   "cell_type": "code",
   "execution_count": 2,
   "metadata": {},
   "outputs": [],
   "source": [
    "from sklearn.ensemble import RandomForestClassifier\n",
    "from sklearn.datasets import load_iris\n",
    "from sklearn.model_selection import cross_val_score\n",
    "\n",
    "import numpy as np"
   ]
  },
  {
   "cell_type": "code",
   "execution_count": 3,
   "metadata": {},
   "outputs": [
    {
     "name": "stdout",
     "output_type": "stream",
     "text": [
      "0.7132\n"
     ]
    }
   ],
   "source": [
    "iris = load_iris()\n",
    "\n",
    "X = iris.data[:, :2]\n",
    "y = iris.target\n",
    "\n",
    "print(round(np.mean(cross_val_score(RandomForestClassifier(random_state=42), X, y, cv=3)), 4))"
   ]
  },
  {
   "cell_type": "markdown",
   "metadata": {},
   "source": [
    "#### Каков минимальный радиус круга, содержащего все точки из $X$?"
   ]
  },
  {
   "cell_type": "code",
   "execution_count": 4,
   "metadata": {},
   "outputs": [],
   "source": [
    "from scipy.optimize import minimize"
   ]
  },
  {
   "cell_type": "markdown",
   "metadata": {},
   "source": [
    "Первый способ"
   ]
  },
  {
   "cell_type": "code",
   "execution_count": null,
   "metadata": {},
   "outputs": [],
   "source": []
  },
  {
   "cell_type": "code",
   "execution_count": null,
   "metadata": {},
   "outputs": [],
   "source": []
  },
  {
   "cell_type": "code",
   "execution_count": 5,
   "metadata": {},
   "outputs": [
    {
     "data": {
      "text/plain": [
       "      fun: 3.468291571416955\n",
       " hess_inv: array([[ 0.00852046, -0.00986477],\n",
       "       [-0.00986477,  0.0114212 ]])\n",
       "      jac: array([2.39971387, 0.83110574])\n",
       "  message: 'Desired error not necessarily achieved due to precision loss.'\n",
       "     nfev: 456\n",
       "      nit: 3\n",
       "     njev: 111\n",
       "   status: 2\n",
       "  success: False\n",
       "        x: array([6.14927676, 3.16497268])"
      ]
     },
     "execution_count": 5,
     "metadata": {},
     "output_type": "execute_result"
    }
   ],
   "source": [
    "minimize(lambda point: ((point - X) ** 2).sum(axis=1).max(), np.mean(X, axis=0))"
   ]
  },
  {
   "cell_type": "code",
   "execution_count": 6,
   "metadata": {},
   "outputs": [],
   "source": [
    "min_value = 1000000.\n",
    "for x0 in np.linspace(6., 7., 10):\n",
    "    for x1 in np.linspace(3., 4., 10):\n",
    "        min_value = min(min_value, minimize(lambda point: ((point - X) ** 2).sum(axis=1).max(), np.array([x0, x1])).fun)"
   ]
  },
  {
   "cell_type": "code",
   "execution_count": 7,
   "metadata": {},
   "outputs": [
    {
     "name": "stdout",
     "output_type": "stream",
     "text": [
      "3.4648056830287155\n",
      "1.8614\n"
     ]
    }
   ],
   "source": [
    "print(min_value)\n",
    "print(round(np.sqrt(min_value), 4))"
   ]
  },
  {
   "cell_type": "markdown",
   "metadata": {},
   "source": [
    "Второй способ"
   ]
  },
  {
   "cell_type": "code",
   "execution_count": 8,
   "metadata": {},
   "outputs": [
    {
     "data": {
      "text/plain": [
       " final_simplex: (array([[6.15520434, 3.15154545],\n",
       "       [6.15517458, 3.15160564],\n",
       "       [6.15519425, 3.15154353]]), array([3.46483107, 3.46483507, 3.46484291]))\n",
       "           fun: 3.4648310736449393\n",
       "       message: 'Optimization terminated successfully.'\n",
       "          nfev: 68\n",
       "           nit: 36\n",
       "        status: 0\n",
       "       success: True\n",
       "             x: array([6.15520434, 3.15154545])"
      ]
     },
     "execution_count": 8,
     "metadata": {},
     "output_type": "execute_result"
    }
   ],
   "source": [
    "minimize(lambda point: ((point - X) ** 2)\n",
    "         .sum(axis=1).max(), np.mean(X, axis=0), method='Nelder-Mead')"
   ]
  },
  {
   "cell_type": "code",
   "execution_count": 9,
   "metadata": {},
   "outputs": [
    {
     "name": "stdout",
     "output_type": "stream",
     "text": [
      "3.4648310736449393\n",
      "1.8614\n"
     ]
    }
   ],
   "source": [
    "min_value = minimize(lambda point: ((point - X) ** 2).sum(axis=1).max(), np.mean(X, axis=0), method='Nelder-Mead').fun\n",
    "print(min_value)\n",
    "print(round(np.sqrt(min_value), 4))"
   ]
  },
  {
   "cell_type": "markdown",
   "metadata": {},
   "source": [
    "#### У вас есть набор зависимости $y$ от одной переменной $x$, причём вы знаете, что эта зависимость линейная ($y=ax + b$). Вам нужно восстановить эту зависимость, решив оптимизационную задачу $\\min_{a, b} \\sum_{i=1}^n (ax_i + b - y_i)^2$.\n",
    "\n",
    "#### Проблема в том, что выборка очень большая, поэтому её нельзя полностью загрузить в память."
   ]
  },
  {
   "cell_type": "code",
   "execution_count": 12,
   "metadata": {},
   "outputs": [],
   "source": [
    "def generator():\n",
    "    rand_gen = np.random.RandomState(42)\n",
    "    for i in range(1000):\n",
    "        arr_of_x = 10 * rand_gen.uniform(size=10000)\n",
    "        arr_of_noise = 40 * rand_gen.normal(size=10000)\n",
    "        for x, noise in zip(arr_of_x, arr_of_noise):\n",
    "            yield x, 3.14 * x + 8.3 + noise"
   ]
  },
  {
   "cell_type": "code",
   "execution_count": 13,
   "metadata": {},
   "outputs": [],
   "source": [
    "def solver(seq):\n",
    "    count = 0\n",
    "    sum_x = 0.\n",
    "    sum_y = 0.\n",
    "    sum_sq_x = 0.\n",
    "    sum_xy = 0.\n",
    "    for x, y in seq:\n",
    "        count += 1\n",
    "        sum_x += x\n",
    "        sum_y += y\n",
    "        sum_sq_x += x ** 2\n",
    "        sum_xy += x * y\n",
    "        \n",
    "    a = (count * sum_xy - sum_x * sum_y) / (count * sum_sq_x - sum_x ** 2)\n",
    "    b = (sum_y - a * sum_x) / count\n",
    "    return a, b\n",
    "        "
   ]
  },
  {
   "cell_type": "code",
   "execution_count": 14,
   "metadata": {},
   "outputs": [
    {
     "name": "stdout",
     "output_type": "stream",
     "text": [
      "3.13788_8.31801\n",
      "CPU times: user 13.7 s, sys: 0 ns, total: 13.7 s\n",
      "Wall time: 13.7 s\n"
     ]
    }
   ],
   "source": [
    "%%time\n",
    "a, b = solver(generator())\n",
    "print('{}_{}'.format(round(a, 5), round(b, 5)))"
   ]
  },
  {
   "cell_type": "code",
   "execution_count": null,
   "metadata": {},
   "outputs": [],
   "source": []
  }
 ],
 "metadata": {
  "kernelspec": {
   "display_name": "Python 3",
   "language": "python",
   "name": "python3"
  }
 },
 "nbformat": 4,
 "nbformat_minor": 2
}
